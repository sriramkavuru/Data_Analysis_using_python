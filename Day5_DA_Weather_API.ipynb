{
  "nbformat": 4,
  "nbformat_minor": 0,
  "metadata": {
    "colab": {
      "provenance": []
    },
    "kernelspec": {
      "name": "python3",
      "display_name": "Python 3"
    },
    "language_info": {
      "name": "python"
    }
  },
  "cells": [
    {
      "cell_type": "code",
      "execution_count": null,
      "metadata": {
        "colab": {
          "base_uri": "https://localhost:8080/"
        },
        "id": "pHyRlQYhQUEe",
        "outputId": "7962e869-76a9-4da1-dc23-810e8a0fd837"
      },
      "outputs": [
        {
          "output_type": "execute_result",
          "data": {
            "text/plain": [
              "{'location': {'name': 'Tadepalligudem',\n",
              "  'region': 'Andhra Pradesh',\n",
              "  'country': 'India',\n",
              "  'lat': 16.83,\n",
              "  'lon': 81.5,\n",
              "  'tz_id': 'Asia/Kolkata',\n",
              "  'localtime_epoch': 1709121311,\n",
              "  'localtime': '2024-02-28 17:25'},\n",
              " 'current': {'last_updated_epoch': 1709120700,\n",
              "  'last_updated': '2024-02-28 17:15',\n",
              "  'temp_c': 30.0,\n",
              "  'temp_f': 86.0,\n",
              "  'is_day': 1,\n",
              "  'condition': {'text': 'Sunny',\n",
              "   'icon': '//cdn.weatherapi.com/weather/64x64/day/113.png',\n",
              "   'code': 1000},\n",
              "  'wind_mph': 14.8,\n",
              "  'wind_kph': 23.8,\n",
              "  'wind_degree': 168,\n",
              "  'wind_dir': 'SSE',\n",
              "  'pressure_mb': 1009.0,\n",
              "  'pressure_in': 29.8,\n",
              "  'precip_mm': 0.0,\n",
              "  'precip_in': 0.0,\n",
              "  'humidity': 48,\n",
              "  'cloud': 5,\n",
              "  'feelslike_c': 31.2,\n",
              "  'feelslike_f': 88.2,\n",
              "  'vis_km': 10.0,\n",
              "  'vis_miles': 6.0,\n",
              "  'uv': 8.0,\n",
              "  'gust_mph': 19.4,\n",
              "  'gust_kph': 31.2}}"
            ]
          },
          "metadata": {},
          "execution_count": 1
        }
      ],
      "source": [
        "import requests\n",
        "api='c063c07df8424dab96d54435242802'\n",
        "city='Tadepalligudem'\n",
        "url=f'http://api.weatherapi.com/v1/current.json?key={api}&q={city}'\n",
        "response= requests.get(url)\n",
        "data=response.json()\n",
        "data"
      ]
    },
    {
      "cell_type": "code",
      "source": [
        "type(data)"
      ],
      "metadata": {
        "colab": {
          "base_uri": "https://localhost:8080/"
        },
        "id": "TB0JMhjUnLPD",
        "outputId": "619d33fc-7dd4-4105-eda6-81d98cdc3d52"
      },
      "execution_count": null,
      "outputs": [
        {
          "output_type": "execute_result",
          "data": {
            "text/plain": [
              "dict"
            ]
          },
          "metadata": {},
          "execution_count": 4
        }
      ]
    },
    {
      "cell_type": "code",
      "source": [
        "data['location']['name']"
      ],
      "metadata": {
        "colab": {
          "base_uri": "https://localhost:8080/",
          "height": 36
        },
        "id": "L9lBnQKvnO-x",
        "outputId": "620c4b5f-422c-4265-c5cf-e03d4444e6e6"
      },
      "execution_count": null,
      "outputs": [
        {
          "output_type": "execute_result",
          "data": {
            "text/plain": [
              "'Tadepalligudem'"
            ],
            "application/vnd.google.colaboratory.intrinsic+json": {
              "type": "string"
            }
          },
          "metadata": {},
          "execution_count": 5
        }
      ]
    },
    {
      "cell_type": "code",
      "source": [
        "import requests\n",
        "api='c063c07df8424dab96d54435242802'\n",
        "city=input(\"Enter the City name\")\n",
        "url =f'http://api.weatherapi.com/v1/current.json?key={api}&q={city}'\n",
        "response=requests.get(url)\n",
        "data=response.json()\n",
        "print(\"City : \",data['location']['name'])\n",
        "print(\"state : \",data['location']['region'])\n",
        "print(\"Contry : \",data['location']['country'])\n",
        "print(\"Feels like in c: \",data['current']['feelslike_c'])\n",
        "print(\"wind direction: \",data['current']['wind_dir'])\n",
        "print(\"Temperature in celsius: \",data['current']['temp_c'])\n",
        "print(\"Wind speed in mph : \",data['current']['wind_mph'])\n",
        "print(\"Humidity : \",data['current']['humidity'])"
      ],
      "metadata": {
        "colab": {
          "base_uri": "https://localhost:8080/"
        },
        "id": "kVBtDIkXkuRN",
        "outputId": "4a7596d7-98dc-4a58-c02d-6b912cedc441"
      },
      "execution_count": null,
      "outputs": [
        {
          "output_type": "stream",
          "name": "stdout",
          "text": [
            "Enter the City nameTanuku\n",
            "City :  Tanuku\n",
            "state :  Andhra Pradesh\n",
            "Contry :  India\n",
            "Feels like in c:  31.0\n",
            "wind direction:  SSE\n",
            "Temperature in celsius:  30.0\n",
            "Wind speed in mph :  13.4\n",
            "Humidity :  47\n"
          ]
        }
      ]
    },
    {
      "cell_type": "code",
      "source": [
        "import requests\n",
        "api='c063c07df8424dab96d54435242802'\n",
        "city=input(\"Enter city name:\")\n",
        "url=f'http://api.weatherapi.com/v1/current.json?key={api}&q={city}'\n",
        "response= requests.get(url)\n",
        "data=response.json()\n",
        "print(data)\n",
        "if data['error']['code'] == 1006:\n",
        "  print(\"location not found\")\n",
        "elif data['error']['code'] == 2006:\n",
        "  print(data['error']['message'])\n",
        "else:\n",
        "  print(\"City : \",data['location']['name'])\n",
        "  print(\"state : \",data['location']['region'])\n",
        "  print(\"Contry : \",data['location']['country'])\n",
        "  print(\"Feels like in c: \",data['current']['feelslike_c'])\n",
        "  print(\"wind direction: \",data['current']['wind_dir'])\n",
        "  print(\"Temperature in celsius: \",data['current']['temp_c'])\n",
        "  print(\"Wind speed in mph : \",data['current']['wind_mph'])\n",
        "  print(\"Humidity : \",data['current']['humidity'])"
      ],
      "metadata": {
        "colab": {
          "base_uri": "https://localhost:8080/"
        },
        "id": "O7ewT2g5naPI",
        "outputId": "7bcdc0b8-4ab4-4f84-e312-7a6dd4e43a35"
      },
      "execution_count": null,
      "outputs": [
        {
          "output_type": "stream",
          "name": "stdout",
          "text": [
            "Enter city name:gh\n",
            "{'error': {'code': 1006, 'message': 'No matching location found.'}}\n",
            "location not found\n"
          ]
        }
      ]
    }
  ]
}