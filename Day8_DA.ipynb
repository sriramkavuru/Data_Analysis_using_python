{
  "nbformat": 4,
  "nbformat_minor": 0,
  "metadata": {
    "colab": {
      "provenance": []
    },
    "kernelspec": {
      "name": "python3",
      "display_name": "Python 3"
    },
    "language_info": {
      "name": "python"
    }
  },
  "cells": [
    {
      "cell_type": "code",
      "execution_count": null,
      "metadata": {
        "colab": {
          "base_uri": "https://localhost:8080/"
        },
        "id": "0AEf7NIai1sH",
        "outputId": "c6bcf3a8-1ebe-482d-e16e-41120892e8da"
      },
      "outputs": [
        {
          "output_type": "stream",
          "name": "stderr",
          "text": [
            "WARNING:tensorflow:5 out of the last 5 calls to <function Model.make_predict_function.<locals>.predict_function at 0x78017839e680> triggered tf.function retracing. Tracing is expensive and the excessive number of tracings could be due to (1) creating @tf.function repeatedly in a loop, (2) passing tensors with different shapes, (3) passing Python objects instead of tensors. For (1), please define your @tf.function outside of the loop. For (2), @tf.function has reduce_retracing=True option that can avoid unnecessary retracing. For (3), please refer to https://www.tensorflow.org/guide/function#controlling_retracing and https://www.tensorflow.org/api_docs/python/tf/function for  more details.\n"
          ]
        },
        {
          "output_type": "stream",
          "name": "stdout",
          "text": [
            "1/1 [==============================] - 0s 108ms/step\n",
            "[[0.8217251]]\n"
          ]
        }
      ],
      "source": [
        "from tensorflow.keras.models import load_model\n",
        "from tensorflow.keras.preprocessing import image\n",
        "import numpy as np\n",
        "\n",
        "#load the saved model\n",
        "model = load_model('/content/Model.h5')\n",
        "\n",
        "#load and preprocess the test image\n",
        "test_image_path ='/content/pred0.jpg'\n",
        "img = image.load_img(test_image_path,target_size=(224, 224))\n",
        "img_array = image.img_to_array(img)\n",
        "img_array = np.expand_dims(img_array,axis =0)\n",
        "\n",
        "#Add batch dimension\n",
        "img_array /=255. #Normalize the pixel values\n",
        "#Make prediction\n",
        "prediction = model.predict(img_array)\n",
        "#print the prediction\n",
        "print(prediction)"
      ]
    },
    {
      "cell_type": "code",
      "source": [
        "if prediction < 0.5:\n",
        "  print(\"Prediction: No tumor (Probability:\",prediction[0][0])\n",
        "else:\n",
        "  print(\"Prediction: Tumor Present (Probability:\",prediction[0][0])"
      ],
      "metadata": {
        "colab": {
          "base_uri": "https://localhost:8080/"
        },
        "id": "YFLzSuQxpHmX",
        "outputId": "c341cb93-4bbd-455d-dd4e-b9793dd45d54"
      },
      "execution_count": null,
      "outputs": [
        {
          "output_type": "stream",
          "name": "stdout",
          "text": [
            "Prediction: Tumor Present (Probability: 0.8217251\n"
          ]
        }
      ]
    }
  ]
}