{
  "nbformat": 4,
  "nbformat_minor": 0,
  "metadata": {
    "colab": {
      "provenance": []
    },
    "kernelspec": {
      "name": "python3",
      "display_name": "Python 3"
    },
    "language_info": {
      "name": "python"
    }
  },
  "cells": [
    {
      "cell_type": "code",
      "execution_count": null,
      "metadata": {
        "id": "yalrQTm2Gyyw"
      },
      "outputs": [],
      "source": [
        "import tensorflow as tf\n",
        "from tensorflow import keras\n",
        "from tensorflow.keras import layers\n",
        "from tensorflow.keras.preprocessing.image import ImageDataGenerator\n",
        "# Define image size and batch size\n",
        "IMG_SIZE = 224\n",
        "BATCH_SIZE = 32"
      ]
    },
    {
      "cell_type": "code",
      "source": [
        "from google.colab import drive\n",
        "drive.mount('/content/drive')"
      ],
      "metadata": {
        "id": "P4c-82iMgHlR"
      },
      "execution_count": null,
      "outputs": []
    },
    {
      "cell_type": "code",
      "source": [
        "#Define data generators for train ,validation and test sets\n",
        "train_datagen = ImageDataGenerator(\n",
        "     rescale=1./225,\n",
        "     validation_split=0.2\n",
        " )"
      ],
      "metadata": {
        "id": "IXl9SgvVS-F-"
      },
      "execution_count": null,
      "outputs": []
    },
    {
      "cell_type": "code",
      "source": [
        "train_generator = train_datagen.flow_from_directory(\n",
        "'/content/drive/MyDrive/Brain_Tumor_Detection',\n",
        " target_size=(IMG_SIZE, IMG_SIZE),\n",
        " batch_size=BATCH_SIZE,\n",
        " class_mode='binary',\n",
        " subset='training'\n",
        " )"
      ],
      "metadata": {
        "colab": {
          "base_uri": "https://localhost:8080/"
        },
        "id": "IYC07X9gTCXK",
        "outputId": "95751bbd-f5d9-418d-daaa-1fe38ba2e8a5"
      },
      "execution_count": null,
      "outputs": [
        {
          "output_type": "stream",
          "name": "stdout",
          "text": [
            "Found 2364 images belonging to 2 classes.\n"
          ]
        }
      ]
    },
    {
      "cell_type": "code",
      "source": [
        "val_generator = train_datagen.flow_from_directory(\n",
        "'/content/drive/MyDrive/Brain_Tumor_Detection',\n",
        " target_size=(IMG_SIZE, IMG_SIZE),\n",
        " batch_size=BATCH_SIZE,\n",
        " class_mode='binary',\n",
        " subset='validation'\n",
        " )"
      ],
      "metadata": {
        "colab": {
          "base_uri": "https://localhost:8080/"
        },
        "id": "yD21D0PiTL4T",
        "outputId": "20d06523-f6b5-4fb4-e9bd-e950c1b1326c"
      },
      "execution_count": null,
      "outputs": [
        {
          "output_type": "stream",
          "name": "stdout",
          "text": [
            "Found 591 images belonging to 2 classes.\n"
          ]
        }
      ]
    },
    {
      "cell_type": "code",
      "source": [
        "model = keras.Sequential([\n",
        "    layers.Conv2D(32, (3,3),activation='relu', input_shape=(IMG_SIZE,IMG_SIZE,3)),\n",
        "    layers.MaxPooling2D((2,2)),\n",
        "    layers.Conv2D(64, (3,3),activation='relu'),\n",
        "    layers.MaxPooling2D((2,2)),\n",
        "    layers.Conv2D(128, (3,3),activation='relu'),\n",
        "    layers.MaxPooling2D((2,2)),\n",
        "    layers.Flatten(),\n",
        "    layers.Dense(128, activation='relu'),\n",
        "    layers.Dense(1, activation='sigmoid')\n",
        "])"
      ],
      "metadata": {
        "id": "AA7mto2OTToa"
      },
      "execution_count": null,
      "outputs": []
    },
    {
      "cell_type": "code",
      "source": [
        "model.compile(optimizer='adam',loss='binary_crossentropy',metrics=['accuracy'])"
      ],
      "metadata": {
        "id": "p_gpTPowTYqW"
      },
      "execution_count": null,
      "outputs": []
    },
    {
      "cell_type": "code",
      "source": [
        "model.fit(train_generator,validation_data=val_generator,epochs=5)"
      ],
      "metadata": {
        "colab": {
          "base_uri": "https://localhost:8080/"
        },
        "id": "vzrP3irXTb_U",
        "outputId": "905e6537-f136-4f9e-d928-690694c2daf9"
      },
      "execution_count": null,
      "outputs": [
        {
          "output_type": "stream",
          "name": "stdout",
          "text": [
            "Epoch 1/5\n",
            "74/74 [==============================] - 267s 4s/step - loss: 0.1346 - accuracy: 0.9797 - val_loss: 0.1091 - val_accuracy: 0.9797\n",
            "Epoch 2/5\n",
            "74/74 [==============================] - 265s 4s/step - loss: 0.0963 - accuracy: 0.9797 - val_loss: 0.0990 - val_accuracy: 0.9797\n",
            "Epoch 3/5\n",
            "74/74 [==============================] - 260s 3s/step - loss: 0.0871 - accuracy: 0.9797 - val_loss: 0.0969 - val_accuracy: 0.9797\n",
            "Epoch 4/5\n",
            "74/74 [==============================] - 262s 4s/step - loss: 0.0774 - accuracy: 0.9797 - val_loss: 0.1005 - val_accuracy: 0.9797\n",
            "Epoch 5/5\n",
            "74/74 [==============================] - 261s 4s/step - loss: 0.0717 - accuracy: 0.9788 - val_loss: 0.1453 - val_accuracy: 0.9797\n"
          ]
        },
        {
          "output_type": "execute_result",
          "data": {
            "text/plain": [
              "<keras.src.callbacks.History at 0x7cecdad596f0>"
            ]
          },
          "metadata": {},
          "execution_count": 7
        }
      ]
    },
    {
      "cell_type": "code",
      "source": [
        "model.save(\"Model.h5\",\"label.txt\")"
      ],
      "metadata": {
        "id": "9RNGeLYQWAfJ"
      },
      "execution_count": null,
      "outputs": []
    }
  ]
}