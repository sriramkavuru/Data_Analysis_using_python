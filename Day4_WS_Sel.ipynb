{
 "cells": [
  {
   "cell_type": "code",
   "execution_count": 2,
   "id": "7ec5d905",
   "metadata": {},
   "outputs": [
    {
     "name": "stdout",
     "output_type": "stream",
     "text": [
      "Requirement already satisfied: selenium in c:\\users\\hp\\anaconda3\\lib\\site-packages (4.18.1)\n",
      "Requirement already satisfied: urllib3[socks]<3,>=1.26 in c:\\users\\hp\\anaconda3\\lib\\site-packages (from selenium) (1.26.16)\n",
      "Requirement already satisfied: trio~=0.17 in c:\\users\\hp\\anaconda3\\lib\\site-packages (from selenium) (0.24.0)\n",
      "Requirement already satisfied: trio-websocket~=0.9 in c:\\users\\hp\\anaconda3\\lib\\site-packages (from selenium) (0.11.1)\n",
      "Requirement already satisfied: certifi>=2021.10.8 in c:\\users\\hp\\anaconda3\\lib\\site-packages (from selenium) (2023.7.22)\n",
      "Requirement already satisfied: typing_extensions>=4.9.0 in c:\\users\\hp\\anaconda3\\lib\\site-packages (from selenium) (4.10.0)\n",
      "Requirement already satisfied: attrs>=20.1.0 in c:\\users\\hp\\anaconda3\\lib\\site-packages (from trio~=0.17->selenium) (22.1.0)\n",
      "Requirement already satisfied: sortedcontainers in c:\\users\\hp\\anaconda3\\lib\\site-packages (from trio~=0.17->selenium) (2.4.0)\n",
      "Requirement already satisfied: idna in c:\\users\\hp\\anaconda3\\lib\\site-packages (from trio~=0.17->selenium) (3.4)\n",
      "Requirement already satisfied: outcome in c:\\users\\hp\\anaconda3\\lib\\site-packages (from trio~=0.17->selenium) (1.3.0.post0)\n",
      "Requirement already satisfied: sniffio>=1.3.0 in c:\\users\\hp\\anaconda3\\lib\\site-packages (from trio~=0.17->selenium) (1.3.1)\n",
      "Requirement already satisfied: cffi>=1.14 in c:\\users\\hp\\anaconda3\\lib\\site-packages (from trio~=0.17->selenium) (1.15.1)\n",
      "Requirement already satisfied: wsproto>=0.14 in c:\\users\\hp\\anaconda3\\lib\\site-packages (from trio-websocket~=0.9->selenium) (1.2.0)\n",
      "Requirement already satisfied: PySocks!=1.5.7,<2.0,>=1.5.6 in c:\\users\\hp\\anaconda3\\lib\\site-packages (from urllib3[socks]<3,>=1.26->selenium) (1.7.1)\n",
      "Requirement already satisfied: pycparser in c:\\users\\hp\\anaconda3\\lib\\site-packages (from cffi>=1.14->trio~=0.17->selenium) (2.21)\n",
      "Requirement already satisfied: h11<1,>=0.9.0 in c:\\users\\hp\\anaconda3\\lib\\site-packages (from wsproto>=0.14->trio-websocket~=0.9->selenium) (0.14.0)\n",
      "Requirement already satisfied: webdriver_manager in c:\\users\\hp\\anaconda3\\lib\\site-packages (4.0.1)\n",
      "Requirement already satisfied: requests in c:\\users\\hp\\anaconda3\\lib\\site-packages (from webdriver_manager) (2.31.0)\n",
      "Requirement already satisfied: python-dotenv in c:\\users\\hp\\anaconda3\\lib\\site-packages (from webdriver_manager) (0.21.0)\n",
      "Requirement already satisfied: packaging in c:\\users\\hp\\anaconda3\\lib\\site-packages (from webdriver_manager) (23.1)\n",
      "Requirement already satisfied: charset-normalizer<4,>=2 in c:\\users\\hp\\anaconda3\\lib\\site-packages (from requests->webdriver_manager) (2.0.4)\n",
      "Requirement already satisfied: idna<4,>=2.5 in c:\\users\\hp\\anaconda3\\lib\\site-packages (from requests->webdriver_manager) (3.4)\n",
      "Requirement already satisfied: urllib3<3,>=1.21.1 in c:\\users\\hp\\anaconda3\\lib\\site-packages (from requests->webdriver_manager) (1.26.16)\n",
      "Requirement already satisfied: certifi>=2017.4.17 in c:\\users\\hp\\anaconda3\\lib\\site-packages (from requests->webdriver_manager) (2023.7.22)\n"
     ]
    }
   ],
   "source": [
    "!pip install selenium \n",
    "!pip install webdriver_manager"
   ]
  },
  {
   "cell_type": "code",
   "execution_count": 6,
   "id": "de3f385b",
   "metadata": {},
   "outputs": [],
   "source": [
    "from selenium import webdriver\n",
    "from selenium.webdriver.chrome.options import Options\n",
    "from selenium.webdriver.common.by import By\n",
    "from selenium.webdriver.common.keys import Keys\n",
    "from webdriver_manager.chrome import ChromeDriverManager\n",
    "import pandas as pd"
   ]
  },
  {
   "cell_type": "code",
   "execution_count": 7,
   "id": "c8601206",
   "metadata": {},
   "outputs": [],
   "source": [
    "#Define options and set browser capabilities\n",
    "options = webdriver.ChromeOptions()\n",
    "#options.add_argument('--some-option')"
   ]
  },
  {
   "cell_type": "code",
   "execution_count": 8,
   "id": "df012f64",
   "metadata": {},
   "outputs": [],
   "source": [
    "#create a WebDriver instance with options\n",
    "driver = webdriver.Chrome(options=options)"
   ]
  },
  {
   "cell_type": "code",
   "execution_count": 26,
   "id": "20bfafcf",
   "metadata": {},
   "outputs": [],
   "source": [
    "#Navigate to a website \n",
    "driver.get('https://www.myntra.com/')"
   ]
  },
  {
   "cell_type": "code",
   "execution_count": 27,
   "id": "36ce086a",
   "metadata": {},
   "outputs": [],
   "source": [
    "search = driver.find_element(By.XPATH,\".//input[@class='desktop-searchBar']\")"
   ]
  },
  {
   "cell_type": "code",
   "execution_count": 28,
   "id": "3285822c",
   "metadata": {},
   "outputs": [],
   "source": [
    "search.send_keys(\"Black shoe for men\")"
   ]
  },
  {
   "cell_type": "code",
   "execution_count": 29,
   "id": "0a4121ae",
   "metadata": {},
   "outputs": [],
   "source": [
    "search.send_keys(Keys.ENTER)"
   ]
  },
  {
   "cell_type": "code",
   "execution_count": 35,
   "id": "5a5f0c1b",
   "metadata": {},
   "outputs": [],
   "source": [
    "brand=driver.find_elements(By.XPATH,\".//h3[@class='product-brand']\")\n",
    "brands=[i.text for i in brand]"
   ]
  },
  {
   "cell_type": "code",
   "execution_count": 36,
   "id": "3977dfef",
   "metadata": {},
   "outputs": [
    {
     "name": "stdout",
     "output_type": "stream",
     "text": [
      "['Red Tape', 'NEEMANS', 'Campus', 'Cultsport', 'Campus', 'Killer', 'HRX by Hrithik Roshan', 'Red Tape', 'HRX by Hrithik Roshan', 'Red Tape', 'NEEMANS', 'HRX by Hrithik Roshan', 'Sparx', 'Mactree', 'NEEMANS', 'Provogue', 'ASIAN', 'Red Tape', 'House of Pataudi', 'Sparx', 'HERE&NOW', 'HRX by Hrithik Roshan', 'IMPAKTO', 'INVICTUS', \"AARAVIN'S\", 'HIGHLANDER', 'Red Tape', 'Red Tape', 'Sparx', 'Flying Machine', 'HRX by Hrithik Roshan', 'WALKWAY by Metro', 'Red Tape', 'HIGHLANDER', 'Roadster', 'Reebok', 'HRX by Hrithik Roshan', 'Styli', 'Kook N Keech', 'Mactree', 'Campus', 'ELIXIR MAN', 'Puma', 'Roadster', 'HRX by Hrithik Roshan', 'Campus', 'HRX by Hrithik Roshan', 'Campus', 'HRX by Hrithik Roshan', 'Liberty']\n",
      "50\n"
     ]
    }
   ],
   "source": [
    "print(brands)\n",
    "print(len(brands))"
   ]
  },
  {
   "cell_type": "code",
   "execution_count": 37,
   "id": "9b1869f6",
   "metadata": {},
   "outputs": [
    {
     "name": "stdout",
     "output_type": "stream",
     "text": [
      "['Men Colourblocked Sneakers', 'Lightweight Slip-On Sneakers', 'Men Running Shoes', 'Unisex X1 Training Shoe', 'Men Running Shoes', 'Men Woven Design Slip-On Sneakers', 'Men Running Sports Shoes', 'Men Mesh Walking Shoes', 'Men Mesh Running Shoes', 'Men Colourblocked PU High-Top Sneakers', 'Woven Design Lace-Up Sneakers', 'Men Running Shoes', 'Long Distance Running Shoes', 'Men Solid Genuine Leather Formal Slip-Ons', 'Woven Design Slip-On Sneakers', 'Men Black Solid Formal Debys', 'Men Running Shoes', 'Men Perforated Sneakers', 'Men Textured Formal Oxfords', 'Men Running Shoes', 'Men Formal Penny Loafers', 'Men Running Shoes', 'Men Barefoot Rooted Gym Shoes', 'Men Solid Formal Oxford Shoes', 'Men Textured Formal Oxfords', 'Men Solid Sneakers', 'Men Lace-Ups Walking Shoes', 'Men Perforations PU Sneakers', 'Men Running Shoes', 'Men Pavel Mule Sneakers', 'Men Mesh Basketball Shoes', 'Men Leather Formal Derbys', 'Men Colourblocked Sneakers', 'Men Sneakers', 'Men Lightweight Sneakers', 'Men Breeze Glide Running Shoes', 'Men Mesh Walking Shoes', 'Men Canvas Casual Shoes', 'Men Woven Design Sneakers', 'Men Suede Loafers', 'Men Crysta Pro Running Shoes', 'Men Round Toe Sneakers', 'Men Knit IDP Walking Shoes', 'Men Sneakers', 'Men Memory Foam Running Shoes', 'Men Walking Shoes', 'Men Memory Foam Running Shoes', 'Men Running Shoes', 'Men Memory Foam Walking Shoes', 'Kids Velcro School Shoes']\n",
      "50\n"
     ]
    }
   ],
   "source": [
    "prod = driver.find_elements(By.XPATH,\".//h4[@class='product-product']\")\n",
    "prods = [i.text for i in prod]\n",
    "print(prods)\n",
    "print(len(prods))"
   ]
  },
  {
   "cell_type": "code",
   "execution_count": 40,
   "id": "13289b0d",
   "metadata": {},
   "outputs": [],
   "source": [
    "price = driver.find_elements(By.XPATH,\".//span[@class='product-discountedPrice']\")\n",
    "prices = [i.text for i in prod]"
   ]
  },
  {
   "cell_type": "code",
   "execution_count": 41,
   "id": "60b68461",
   "metadata": {},
   "outputs": [
    {
     "name": "stdout",
     "output_type": "stream",
     "text": [
      "['Men Colourblocked Sneakers', 'Lightweight Slip-On Sneakers', 'Men Running Shoes', 'Unisex X1 Training Shoe', 'Men Running Shoes', 'Men Woven Design Slip-On Sneakers', 'Men Running Sports Shoes', 'Men Mesh Walking Shoes', 'Men Mesh Running Shoes', 'Men Colourblocked PU High-Top Sneakers', 'Woven Design Lace-Up Sneakers', 'Men Running Shoes', 'Long Distance Running Shoes', 'Men Solid Genuine Leather Formal Slip-Ons', 'Woven Design Slip-On Sneakers', 'Men Black Solid Formal Debys', 'Men Running Shoes', 'Men Perforated Sneakers', 'Men Textured Formal Oxfords', 'Men Running Shoes', 'Men Formal Penny Loafers', 'Men Running Shoes', 'Men Barefoot Rooted Gym Shoes', 'Men Solid Formal Oxford Shoes', 'Men Textured Formal Oxfords', 'Men Solid Sneakers', 'Men Lace-Ups Walking Shoes', 'Men Perforations PU Sneakers', 'Men Running Shoes', 'Men Pavel Mule Sneakers', 'Men Mesh Basketball Shoes', 'Men Leather Formal Derbys', 'Men Colourblocked Sneakers', 'Men Sneakers', 'Men Lightweight Sneakers', 'Men Breeze Glide Running Shoes', 'Men Mesh Walking Shoes', 'Men Canvas Casual Shoes', 'Men Woven Design Sneakers', 'Men Suede Loafers', 'Men Crysta Pro Running Shoes', 'Men Round Toe Sneakers', 'Men Knit IDP Walking Shoes', 'Men Sneakers', 'Men Memory Foam Running Shoes', 'Men Walking Shoes', 'Men Memory Foam Running Shoes', 'Men Running Shoes', 'Men Memory Foam Walking Shoes', 'Kids Velcro School Shoes']\n",
      "50\n"
     ]
    }
   ],
   "source": [
    "print(prices)\n",
    "print(len(prices))"
   ]
  },
  {
   "cell_type": "code",
   "execution_count": 42,
   "id": "230eba01",
   "metadata": {},
   "outputs": [
    {
     "data": {
      "text/html": [
       "<div>\n",
       "<style scoped>\n",
       "    .dataframe tbody tr th:only-of-type {\n",
       "        vertical-align: middle;\n",
       "    }\n",
       "\n",
       "    .dataframe tbody tr th {\n",
       "        vertical-align: top;\n",
       "    }\n",
       "\n",
       "    .dataframe thead th {\n",
       "        text-align: right;\n",
       "    }\n",
       "</style>\n",
       "<table border=\"1\" class=\"dataframe\">\n",
       "  <thead>\n",
       "    <tr style=\"text-align: right;\">\n",
       "      <th></th>\n",
       "      <th>Brand</th>\n",
       "      <th>desc</th>\n",
       "      <th>Price</th>\n",
       "    </tr>\n",
       "  </thead>\n",
       "  <tbody>\n",
       "  </tbody>\n",
       "</table>\n",
       "</div>"
      ],
      "text/plain": [
       "Empty DataFrame\n",
       "Columns: [Brand, desc, Price]\n",
       "Index: []"
      ]
     },
     "execution_count": 42,
     "metadata": {},
     "output_type": "execute_result"
    }
   ],
   "source": [
    "import pandas as pd\n",
    "df=pd.DataFrame(columns=[\"Brand\",\"desc\",\"Price\"])\n",
    "df"
   ]
  },
  {
   "cell_type": "code",
   "execution_count": null,
   "id": "dab0a678",
   "metadata": {},
   "outputs": [],
   "source": [
    "df['Brand']=brands\n",
    "df['Desc']=products\n",
    "df['Price']"
   ]
  }
 ],
 "metadata": {
  "kernelspec": {
   "display_name": "Python 3 (ipykernel)",
   "language": "python",
   "name": "python3"
  },
  "language_info": {
   "codemirror_mode": {
    "name": "ipython",
    "version": 3
   },
   "file_extension": ".py",
   "mimetype": "text/x-python",
   "name": "python",
   "nbconvert_exporter": "python",
   "pygments_lexer": "ipython3",
   "version": "3.11.5"
  }
 },
 "nbformat": 4,
 "nbformat_minor": 5
}
