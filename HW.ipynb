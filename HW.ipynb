{
 "cells": [
  {
   "cell_type": "code",
   "execution_count": 1,
   "id": "147aed2a",
   "metadata": {},
   "outputs": [
    {
     "name": "stdout",
     "output_type": "stream",
     "text": [
      "Requirement already satisfied: selenium in c:\\users\\hp\\anaconda3\\lib\\site-packages (4.18.1)\n",
      "Requirement already satisfied: urllib3[socks]<3,>=1.26 in c:\\users\\hp\\anaconda3\\lib\\site-packages (from selenium) (1.26.16)\n",
      "Requirement already satisfied: trio~=0.17 in c:\\users\\hp\\anaconda3\\lib\\site-packages (from selenium) (0.24.0)\n",
      "Requirement already satisfied: trio-websocket~=0.9 in c:\\users\\hp\\anaconda3\\lib\\site-packages (from selenium) (0.11.1)\n",
      "Requirement already satisfied: certifi>=2021.10.8 in c:\\users\\hp\\anaconda3\\lib\\site-packages (from selenium) (2023.7.22)\n",
      "Requirement already satisfied: typing_extensions>=4.9.0 in c:\\users\\hp\\anaconda3\\lib\\site-packages (from selenium) (4.10.0)\n",
      "Requirement already satisfied: attrs>=20.1.0 in c:\\users\\hp\\anaconda3\\lib\\site-packages (from trio~=0.17->selenium) (22.1.0)\n",
      "Requirement already satisfied: sortedcontainers in c:\\users\\hp\\anaconda3\\lib\\site-packages (from trio~=0.17->selenium) (2.4.0)\n",
      "Requirement already satisfied: idna in c:\\users\\hp\\anaconda3\\lib\\site-packages (from trio~=0.17->selenium) (3.4)\n",
      "Requirement already satisfied: outcome in c:\\users\\hp\\anaconda3\\lib\\site-packages (from trio~=0.17->selenium) (1.3.0.post0)\n",
      "Requirement already satisfied: sniffio>=1.3.0 in c:\\users\\hp\\anaconda3\\lib\\site-packages (from trio~=0.17->selenium) (1.3.1)\n",
      "Requirement already satisfied: cffi>=1.14 in c:\\users\\hp\\anaconda3\\lib\\site-packages (from trio~=0.17->selenium) (1.15.1)\n",
      "Requirement already satisfied: wsproto>=0.14 in c:\\users\\hp\\anaconda3\\lib\\site-packages (from trio-websocket~=0.9->selenium) (1.2.0)\n",
      "Requirement already satisfied: PySocks!=1.5.7,<2.0,>=1.5.6 in c:\\users\\hp\\anaconda3\\lib\\site-packages (from urllib3[socks]<3,>=1.26->selenium) (1.7.1)\n",
      "Requirement already satisfied: pycparser in c:\\users\\hp\\anaconda3\\lib\\site-packages (from cffi>=1.14->trio~=0.17->selenium) (2.21)\n",
      "Requirement already satisfied: h11<1,>=0.9.0 in c:\\users\\hp\\anaconda3\\lib\\site-packages (from wsproto>=0.14->trio-websocket~=0.9->selenium) (0.14.0)\n",
      "Requirement already satisfied: webdriver_manager in c:\\users\\hp\\anaconda3\\lib\\site-packages (4.0.1)\n",
      "Requirement already satisfied: requests in c:\\users\\hp\\anaconda3\\lib\\site-packages (from webdriver_manager) (2.31.0)\n",
      "Requirement already satisfied: python-dotenv in c:\\users\\hp\\anaconda3\\lib\\site-packages (from webdriver_manager) (0.21.0)\n",
      "Requirement already satisfied: packaging in c:\\users\\hp\\anaconda3\\lib\\site-packages (from webdriver_manager) (23.1)\n",
      "Requirement already satisfied: charset-normalizer<4,>=2 in c:\\users\\hp\\anaconda3\\lib\\site-packages (from requests->webdriver_manager) (2.0.4)\n",
      "Requirement already satisfied: idna<4,>=2.5 in c:\\users\\hp\\anaconda3\\lib\\site-packages (from requests->webdriver_manager) (3.4)\n",
      "Requirement already satisfied: urllib3<3,>=1.21.1 in c:\\users\\hp\\anaconda3\\lib\\site-packages (from requests->webdriver_manager) (1.26.16)\n",
      "Requirement already satisfied: certifi>=2017.4.17 in c:\\users\\hp\\anaconda3\\lib\\site-packages (from requests->webdriver_manager) (2023.7.22)\n"
     ]
    }
   ],
   "source": [
    "!pip install selenium \n",
    "!pip install webdriver_manager"
   ]
  },
  {
   "cell_type": "code",
   "execution_count": 2,
   "id": "8ff03565",
   "metadata": {},
   "outputs": [],
   "source": [
    "from selenium import webdriver\n",
    "from selenium.webdriver.chrome.options import Options\n",
    "from selenium.webdriver.common.by import By\n",
    "from selenium.webdriver.common.keys import Keys\n",
    "from webdriver_manager.chrome import ChromeDriverManager\n",
    "import pandas as pd"
   ]
  },
  {
   "cell_type": "code",
   "execution_count": 3,
   "id": "a0e21208",
   "metadata": {},
   "outputs": [],
   "source": [
    "options = webdriver.ChromeOptions()"
   ]
  },
  {
   "cell_type": "code",
   "execution_count": 4,
   "id": "c307ce42",
   "metadata": {},
   "outputs": [],
   "source": [
    "driver = webdriver.Chrome(options=options)"
   ]
  },
  {
   "cell_type": "code",
   "execution_count": 5,
   "id": "e39504f9",
   "metadata": {},
   "outputs": [],
   "source": [
    "driver.get('https://www.myntra.com/')"
   ]
  },
  {
   "cell_type": "code",
   "execution_count": 6,
   "id": "b33c6fa8",
   "metadata": {},
   "outputs": [],
   "source": [
    "search = driver.find_element(By.XPATH,\".//input[@class='desktop-searchBar']\")"
   ]
  },
  {
   "cell_type": "code",
   "execution_count": 7,
   "id": "1b9a5f69",
   "metadata": {},
   "outputs": [],
   "source": [
    "search.send_keys(\"smart watches\")"
   ]
  },
  {
   "cell_type": "code",
   "execution_count": 8,
   "id": "1f73945c",
   "metadata": {},
   "outputs": [],
   "source": [
    "search.send_keys(Keys.ENTER)"
   ]
  },
  {
   "cell_type": "code",
   "execution_count": 9,
   "id": "2f54aec3",
   "metadata": {},
   "outputs": [
    {
     "name": "stdout",
     "output_type": "stream",
     "text": [
      "['Fire-Boltt', 'pebble', 'Fire-Boltt', 'boAt', 'NOISE', 'Fire-Boltt', 'CMF by Nothing', 'Cultsport', 'pebble', 'pebble', 'NOISE', 'Fire-Boltt', 'pebble', 'Fire-Boltt', 'pebble', 'Fire-Boltt', 'boAt', 'NOISE', 'NOISE', 'Fire-Boltt', 'boAt', 'Fire-Boltt', 'NOISE', 'Fire-Boltt', 'CMF by Nothing', 'pebble', 'NOISE', 'CMF by Nothing', 'pebble', 'NOISE', 'Fire-Boltt', 'NOISE', 'Fire-Boltt', 'Fire-Boltt', 'Realme', 'NOISE', 'pebble', 'NOISE', 'Fire-Boltt', 'Fire-Boltt', 'Timex', 'NOISE', 'Fire-Boltt', 'pebble', 'boAt', 'Fire-Boltt', 'Fastrack', 'Fastrack', 'Realme', 'Fastrack']\n",
      "50\n"
     ]
    }
   ],
   "source": [
    "brand=driver.find_elements(By.XPATH,\".//h3[@class='product-brand']\")\n",
    "brands=[i.text for i in brand]\n",
    "print(brands)\n",
    "print(len(brands))"
   ]
  },
  {
   "cell_type": "code",
   "execution_count": 10,
   "id": "7f2825a9",
   "metadata": {},
   "outputs": [
    {
     "name": "stdout",
     "output_type": "stream",
     "text": [
      "['Cobra AMOLED Smart Watch', 'Women 1.27\" Smart Watch', 'Rock AMOLED Display Smartwatch', 'Unisex Wave Genesis Smartwatch', 'Fit Posh Smartwatch', 'Supernova Bluetooth SmartWatch', 'Watch Pro', 'Ace XR 1.43\" Smart Watches', 'Hive 1.39\" Display Smart Watch', 'Women 1.27\" Smart Watch', 'Mettle EliteEdition Smartwatch', 'Hulk 1.78 inch Smartwatch', 'Celia 1.32\" Display SmartWatch', 'Eclipse Luxe 1.43\" Amoled', 'Cosmos Ultra 1.91\" BT Calling Smartwatch', 'Starlight Bluetooth Smartwatch', 'Ultima Connect Max HD Display', 'ColorFit Vision 3 Smartwatch', 'Fit Posh Smartwatch', 'Hurricane Smartwatch', 'Ultima BT Calling Smartwatch', 'Aura BT Calling Smartwatch', 'ColorFit Icon 2 Smartwatch', 'Hulk 1.78 inch Smartwatch', 'Watch Pro', 'Cosmos Ultra 1.91\" BT Calling Smartwatch', 'Fit Posh Smartwatch', 'Watch Pro', 'Cosmos Quest Smartwatch', 'ColorFit Caliber Smartwatch', 'Hurricane Smartwatch', 'ColorFit Icon 2 Smartwatch', 'Hurricane Smartwatch', 'Crusader Amoled 1.43BT Calling', 'TechLife Watch S100', 'ColorFit Pro 5 Smartwatch', 'Cosmos Ultra 1.91\" BT Calling Smartwatch', 'Evolve 3 Smartwatch', 'Avalanche Luxury Smart Watch', 'Eclipse Luxe 1.43\" Amoled', 'FitGen Smart Watches', 'ColorFit Pro 5 Max Smartwatch', 'Grenade BT Calling Smartwatch', 'BT Calling Luxury Smartwatch', 'Enigma Z40 Smartwatch', 'Visionary TWS Smartwatch', 'Vigor HD Display Smartwatch', '1.91\" HD Display Smartwatch', 'TechLife Watch S100', 'FS2 BT Calling Smartwatch']\n",
      "50\n"
     ]
    }
   ],
   "source": [
    "prod = driver.find_elements(By.XPATH,\".//h4[@class='product-product']\")\n",
    "prods = [i.text for i in prod]\n",
    "print(prods)\n",
    "print(len(prods))"
   ]
  },
  {
   "cell_type": "code",
   "execution_count": 12,
   "id": "3367183f",
   "metadata": {},
   "outputs": [
    {
     "name": "stdout",
     "output_type": "stream",
     "text": [
      "['Rs. 1899', 'Rs. 2299', 'Rs. 3199', 'Rs. 1899', 'Rs. 1799', 'Rs. 1899', 'Rs. 3499', 'Rs. 2799', 'Rs. 1699', 'Rs. 2299', 'Rs. 2249', 'Rs. 1799', 'Rs. 2299', 'Rs. 1799', 'Rs. 1599', 'Rs. 1599', 'Rs. 1899', 'Rs. 3499', 'Rs. 1799', 'Rs. 1700', 'Rs. 1899', 'Rs. 1999', 'Rs. 1799', 'Rs. 1799', 'Rs. 3499', 'Rs. 1599', 'Rs. 1799', 'Rs. 3499', 'Rs. 2499', 'Rs. 999', 'Rs. 1899', 'Rs. 1799', 'Rs. 1850', 'Rs. 1899', 'Rs. 2499', 'Rs. 3999', 'Rs. 1599', 'Rs. 2449', 'Rs. 2199', 'Rs. 1999', 'Rs. 3497', 'Rs. 4999', 'Rs. 1699', 'Rs. 1999', 'Rs. 4799', 'Rs. 2499', 'Rs. 2495', 'Rs. 2995', 'Rs. 2499', 'Rs. 1999']\n",
      "50\n"
     ]
    }
   ],
   "source": [
    "price = driver.find_elements(By.XPATH,\".//span[@class='product-discountedPrice']\")\n",
    "prices = [i.text for i in price]\n",
    "print(prices)\n",
    "print(len(prices))"
   ]
  },
  {
   "cell_type": "code",
   "execution_count": 14,
   "id": "1a01e274",
   "metadata": {},
   "outputs": [],
   "source": [
    "import pandas as pd\n",
    "df1=pd.DataFrame(columns=['brand','prod','price'])\n",
    "df1['brand']=brands\n",
    "df1['prod']=prods\n",
    "df1['price']=prices\n",
    "df1.to_csv(\"smart_watches.csv\")"
   ]
  },
  {
   "cell_type": "code",
   "execution_count": 15,
   "id": "182222d9",
   "metadata": {},
   "outputs": [
    {
     "name": "stdout",
     "output_type": "stream",
     "text": [
      "             brand                                      prod     price\n",
      "0       Fire-Boltt                  Cobra AMOLED Smart Watch  Rs. 1899\n",
      "1           pebble                   Women 1.27\" Smart Watch  Rs. 2299\n",
      "2       Fire-Boltt            Rock AMOLED Display Smartwatch  Rs. 3199\n",
      "3             boAt            Unisex Wave Genesis Smartwatch  Rs. 1899\n",
      "4            NOISE                       Fit Posh Smartwatch  Rs. 1799\n",
      "5       Fire-Boltt            Supernova Bluetooth SmartWatch  Rs. 1899\n",
      "6   CMF by Nothing                                 Watch Pro  Rs. 3499\n",
      "7        Cultsport                Ace XR 1.43\" Smart Watches  Rs. 2799\n",
      "8           pebble            Hive 1.39\" Display Smart Watch  Rs. 1699\n",
      "9           pebble                   Women 1.27\" Smart Watch  Rs. 2299\n",
      "10           NOISE            Mettle EliteEdition Smartwatch  Rs. 2249\n",
      "11      Fire-Boltt                 Hulk 1.78 inch Smartwatch  Rs. 1799\n",
      "12          pebble            Celia 1.32\" Display SmartWatch  Rs. 2299\n",
      "13      Fire-Boltt                 Eclipse Luxe 1.43\" Amoled  Rs. 1799\n",
      "14          pebble  Cosmos Ultra 1.91\" BT Calling Smartwatch  Rs. 1599\n",
      "15      Fire-Boltt            Starlight Bluetooth Smartwatch  Rs. 1599\n",
      "16            boAt             Ultima Connect Max HD Display  Rs. 1899\n",
      "17           NOISE              ColorFit Vision 3 Smartwatch  Rs. 3499\n",
      "18           NOISE                       Fit Posh Smartwatch  Rs. 1799\n",
      "19      Fire-Boltt                      Hurricane Smartwatch  Rs. 1700\n",
      "20            boAt              Ultima BT Calling Smartwatch  Rs. 1899\n",
      "21      Fire-Boltt                Aura BT Calling Smartwatch  Rs. 1999\n",
      "22           NOISE                ColorFit Icon 2 Smartwatch  Rs. 1799\n",
      "23      Fire-Boltt                 Hulk 1.78 inch Smartwatch  Rs. 1799\n",
      "24  CMF by Nothing                                 Watch Pro  Rs. 3499\n",
      "25          pebble  Cosmos Ultra 1.91\" BT Calling Smartwatch  Rs. 1599\n",
      "26           NOISE                       Fit Posh Smartwatch  Rs. 1799\n",
      "27  CMF by Nothing                                 Watch Pro  Rs. 3499\n",
      "28          pebble                   Cosmos Quest Smartwatch  Rs. 2499\n",
      "29           NOISE               ColorFit Caliber Smartwatch   Rs. 999\n",
      "30      Fire-Boltt                      Hurricane Smartwatch  Rs. 1899\n",
      "31           NOISE                ColorFit Icon 2 Smartwatch  Rs. 1799\n",
      "32      Fire-Boltt                      Hurricane Smartwatch  Rs. 1850\n",
      "33      Fire-Boltt            Crusader Amoled 1.43BT Calling  Rs. 1899\n",
      "34          Realme                       TechLife Watch S100  Rs. 2499\n",
      "35           NOISE                 ColorFit Pro 5 Smartwatch  Rs. 3999\n",
      "36          pebble  Cosmos Ultra 1.91\" BT Calling Smartwatch  Rs. 1599\n",
      "37           NOISE                       Evolve 3 Smartwatch  Rs. 2449\n",
      "38      Fire-Boltt              Avalanche Luxury Smart Watch  Rs. 2199\n",
      "39      Fire-Boltt                 Eclipse Luxe 1.43\" Amoled  Rs. 1999\n",
      "40           Timex                      FitGen Smart Watches  Rs. 3497\n",
      "41           NOISE             ColorFit Pro 5 Max Smartwatch  Rs. 4999\n",
      "42      Fire-Boltt             Grenade BT Calling Smartwatch  Rs. 1699\n",
      "43          pebble              BT Calling Luxury Smartwatch  Rs. 1999\n",
      "44            boAt                     Enigma Z40 Smartwatch  Rs. 4799\n",
      "45      Fire-Boltt                  Visionary TWS Smartwatch  Rs. 2499\n",
      "46        Fastrack               Vigor HD Display Smartwatch  Rs. 2495\n",
      "47        Fastrack               1.91\" HD Display Smartwatch  Rs. 2995\n",
      "48          Realme                       TechLife Watch S100  Rs. 2499\n",
      "49        Fastrack                 FS2 BT Calling Smartwatch  Rs. 1999\n"
     ]
    }
   ],
   "source": [
    "print(df1)"
   ]
  },
  {
   "cell_type": "code",
   "execution_count": null,
   "id": "e0c8e546",
   "metadata": {},
   "outputs": [],
   "source": []
  }
 ],
 "metadata": {
  "kernelspec": {
   "display_name": "Python 3 (ipykernel)",
   "language": "python",
   "name": "python3"
  },
  "language_info": {
   "codemirror_mode": {
    "name": "ipython",
    "version": 3
   },
   "file_extension": ".py",
   "mimetype": "text/x-python",
   "name": "python",
   "nbconvert_exporter": "python",
   "pygments_lexer": "ipython3",
   "version": "3.11.5"
  }
 },
 "nbformat": 4,
 "nbformat_minor": 5
}
